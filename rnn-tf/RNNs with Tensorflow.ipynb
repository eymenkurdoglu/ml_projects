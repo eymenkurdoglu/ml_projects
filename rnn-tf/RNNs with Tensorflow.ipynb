{
 "cells": [
  {
   "cell_type": "markdown",
   "metadata": {},
   "source": [
    "# Sequence Classifier RNN"
   ]
  },
  {
   "cell_type": "code",
   "execution_count": 1,
   "metadata": {},
   "outputs": [],
   "source": [
    "import tensorflow as tf\n",
    "import numpy as np\n",
    "from tensorflow.contrib.layers import fully_connected\n",
    "\n",
    "def reset_graph(seed=42):\n",
    "    tf.reset_default_graph()\n",
    "    tf.set_random_seed(seed)\n",
    "    np.random.seed(seed)\n",
    "    \n",
    "%matplotlib inline\n",
    "import matplotlib\n",
    "import matplotlib.pyplot as plt\n",
    "plt.rcParams['axes.labelsize'] = 14\n",
    "plt.rcParams['xtick.labelsize'] = 12\n",
    "plt.rcParams['ytick.labelsize'] = 12    "
   ]
  },
  {
   "cell_type": "code",
   "execution_count": null,
   "metadata": {},
   "outputs": [],
   "source": [
    "# computation graph construction\n",
    "max_time = 28\n",
    "d = 28\n",
    "n_hid = 150\n",
    "n_out = 10\n",
    "\n",
    "eta = 0.001\n",
    "\n",
    "X = tf.placeholder( tf.float32, [None, max_time, d] ) # shape is dictated by tensorflow: [N, seq_len, dim]\n",
    "y = tf.placeholder( tf.int32, [None] )\n",
    "\n",
    "basic_cell = tf.contrib.rnn.BasicRNNCell( num_units = n_hid )\n",
    "outputs, states = tf.nn.dynamic_rnn( basic_cell, X, dtype = tf.float32 )\n",
    "\n",
    "logits = fully_connected( states, n_out, activation_fn = None )\n",
    "xentropy = tf.nn.sparse_softmax_cross_entropy_with_logits( labels = y, logits = logits )\n",
    "loss = tf.reduce_mean( xentropy )\n",
    "optimizer = tf.train.AdamOptimizer( learning_rate = eta )\n",
    "training_op = optimizer.minimize( loss )\n",
    "correct = tf.nn.in_top_k( logits, y, 1 )\n",
    "accuracy = tf.reduce_mean( tf.cast( correct, tf.float32 ) )\n",
    "\n",
    "init = tf.global_variables_initializer()\n",
    "\n",
    "from tensorflow.examples.tutorials.mnist import input_data\n",
    "\n",
    "mnist = input_data.read_data_sets(\"/tmp/data/\")\n",
    "X_test = mnist.test.images.reshape((-1, max_time, d))\n",
    "y_test = mnist.test.labels\n",
    "\n",
    "n_epochs = 100\n",
    "batch_size = 150\n",
    "with tf.Session() as sess:\n",
    "    init.run()\n",
    "    for epoch in range(n_epochs):\n",
    "        for iteration in range(mnist.train.num_examples // batch_size):\n",
    "            X_batch, y_batch = mnist.train.next_batch(batch_size)\n",
    "            X_batch = X_batch.reshape((-1, max_time, d))\n",
    "            sess.run(training_op, feed_dict={X: X_batch, y: y_batch})\n",
    "        acc_train = accuracy.eval(feed_dict={X: X_batch, y: y_batch})\n",
    "        acc_test = accuracy.eval(feed_dict={X: X_test, y: y_test})\n",
    "        print(epoch, \"Train accuracy:\", acc_train, \"Test accuracy:\", acc_test)"
   ]
  },
  {
   "cell_type": "code",
   "execution_count": null,
   "metadata": {},
   "outputs": [],
   "source": [
    "print(mnist.train.num_examples, mnist.test.num_examples)\n",
    "X_batch, y_batch = mnist.train.next_batch(batch_size)\n",
    "X_batch.shape\n",
    "X_batch = X_batch.reshape( [-1, 28, 28] )\n",
    "X_batch.shape"
   ]
  },
  {
   "cell_type": "markdown",
   "metadata": {},
   "source": [
    "# Time-series Forecasting with RNN"
   ]
  },
  {
   "cell_type": "code",
   "execution_count": 2,
   "metadata": {},
   "outputs": [],
   "source": [
    "t_min, t_max = 0, 30\n",
    "resolution = 0.1\n",
    "n_steps = 30\n",
    "n_inputs = 1\n",
    "n_neurons = 100\n",
    "n_outputs = 1\n",
    "\n",
    "def time_series(t):\n",
    "    return t*np.sin(t)/3 + 2*np.sin(5*t)\n",
    "\n",
    "def next_batch( batch_size, n_steps ):\n",
    "    t0 = np.random.rand(batch_size, 1)*(t_max-t_min-n_steps*resolution)\n",
    "    Ts = t0 + np.arange(0., n_steps+1)*resolution\n",
    "    ys = time_series( Ts )\n",
    "    return ys[:,:-1].reshape( -1, n_steps, 1 ), ys[:,1:].reshape( -1, n_steps, 1 )\n",
    "\n",
    "t = np.linspace(t_min, t_max, int((t_max - t_min) / resolution))\n",
    "t_instance = np.linspace(12.2, 12.2 + resolution * (n_steps + 1), n_steps + 1)"
   ]
  },
  {
   "cell_type": "code",
   "execution_count": 3,
   "metadata": {},
   "outputs": [],
   "source": [
    "reset_graph()\n",
    "\n",
    "X = tf.placeholder(tf.float32, [None, n_steps, n_inputs])\n",
    "y = tf.placeholder(tf.float32, [None, n_steps, n_outputs])\n",
    "\n",
    "# cell = tf.contrib.rnn.BasicRNNCell( num_units = n_neurons, activation = tf.nn.relu)\n",
    "cell = tf.contrib.rnn.OutputProjectionWrapper( tf.contrib.rnn.BasicRNNCell( num_units = n_neurons, activation = tf.nn.relu), output_size = n_outputs )\n",
    "outputs, states = tf.nn.dynamic_rnn(cell, X, dtype = tf.float32)\n",
    "\n",
    "learning_rate = 0.001\n",
    "\n",
    "loss = tf.reduce_mean( tf.square(outputs - y) )\n",
    "optimizer = tf.train.AdamOptimizer(learning_rate=learning_rate)\n",
    "training_op = optimizer.minimize(loss)        "
   ]
  },
  {
   "cell_type": "code",
   "execution_count": 4,
   "metadata": {},
   "outputs": [
    {
     "name": "stdout",
     "output_type": "stream",
     "text": [
      "0 \tMSE: 11.932003\n",
      "100 \tMSE: 0.39737898\n",
      "200 \tMSE: 0.12631594\n",
      "300 \tMSE: 0.09194018\n",
      "400 \tMSE: 0.080602095\n",
      "500 \tMSE: 0.052615475\n",
      "600 \tMSE: 0.03255664\n",
      "700 \tMSE: 0.047224008\n",
      "800 \tMSE: 0.020967495\n",
      "900 \tMSE: 0.02454162\n",
      "1000 \tMSE: 0.03882543\n",
      "1100 \tMSE: 0.018764101\n",
      "1200 \tMSE: 0.044807762\n",
      "1300 \tMSE: 0.026764281\n",
      "1400 \tMSE: 0.018864298\n",
      "1500 \tMSE: 0.021589069\n",
      "1600 \tMSE: 0.029798256\n",
      "1700 \tMSE: 0.038090497\n",
      "1800 \tMSE: 0.027840462\n",
      "1900 \tMSE: 0.026688796\n"
     ]
    }
   ],
   "source": [
    "init = tf.global_variables_initializer()\n",
    "\n",
    "n_iterations = 2000\n",
    "batch_size = 7\n",
    "\n",
    "with tf.Session() as sess:\n",
    "    init.run()\n",
    "    for it in range( n_iterations ):\n",
    "        X_batch, y_batch = next_batch( batch_size, n_steps )\n",
    "        sess.run( training_op, feed_dict = {X: X_batch, y: y_batch} )\n",
    "        if it % 100 == 0:\n",
    "            mse = loss.eval( feed_dict = {X: X_batch, y: y_batch} )\n",
    "            print( it, \"\\tMSE:\", mse )\n",
    "    tf.train.Saver().save(sess, \"./my_time_series_model\")"
   ]
  },
  {
   "cell_type": "code",
   "execution_count": 5,
   "metadata": {
    "slideshow": {
     "slide_type": "slide"
    }
   },
   "outputs": [
    {
     "name": "stdout",
     "output_type": "stream",
     "text": [
      "INFO:tensorflow:Restoring parameters from ./my_time_series_model\n"
     ]
    }
   ],
   "source": [
    "with tf.Session() as sess:                          # not shown in the book\n",
    "    tf.train.Saver().restore(sess, \"./my_time_series_model\")   # not shown\n",
    "\n",
    "    X_new = time_series(np.array(t_instance[:-1].reshape(-1, n_steps, n_inputs)))\n",
    "    y_pred = sess.run(outputs, feed_dict={X: X_new})"
   ]
  },
  {
   "cell_type": "code",
   "execution_count": 6,
   "metadata": {},
   "outputs": [
    {
     "data": {
      "image/png": "[encoded data removed]",
      "text/plain": [
       "<Figure size 432x288 with 1 Axes>"
      ]
     },
     "metadata": {},
     "output_type": "display_data"
    }
   ],
   "source": [
    "plt.title(\"Testing the model\", fontsize=14)\n",
    "plt.plot(t_instance[:-1], time_series(t_instance[:-1]), \"bo\", markersize=10, label=\"instance\")\n",
    "plt.plot(t_instance[1:], time_series(t_instance[1:]), \"w*\", markersize=10, label=\"target\")\n",
    "plt.plot(t_instance[1:], y_pred[0,:,0], \"r.\", markersize=10, label=\"prediction\")\n",
    "plt.legend(loc=\"upper left\")\n",
    "plt.xlabel(\"Time\")\n",
    "\n",
    "plt.show()"
   ]
  },
  {
   "cell_type": "markdown",
   "metadata": {},
   "source": [
    "## Generating new series"
   ]
  },
  {
   "cell_type": "code",
   "execution_count": 7,
   "metadata": {},
   "outputs": [
    {
     "name": "stdout",
     "output_type": "stream",
     "text": [
      "INFO:tensorflow:Restoring parameters from ./my_time_series_model\n"
     ]
    }
   ],
   "source": [
    "with tf.Session() as sess:                        # not shown in the book\n",
    "    tf.train.Saver().restore(sess, \"./my_time_series_model\") # not shown\n",
    "\n",
    "    sequence = [0.] * n_steps\n",
    "    for iteration in range(300):\n",
    "        X_batch = np.array(sequence[-n_steps:]).reshape(1, n_steps, 1)\n",
    "        y_pred = sess.run(outputs, feed_dict={X: X_batch})\n",
    "        sequence.append(y_pred[0, -1, 0])"
   ]
  },
  {
   "cell_type": "code",
   "execution_count": 10,
   "metadata": {},
   "outputs": [
    {
     "data": {
      "image/png": "[encoded data removed]",
      "text/plain": [
       "<Figure size 576x288 with 1 Axes>"
      ]
     },
     "metadata": {},
     "output_type": "display_data"
    }
   ],
   "source": [
    "plt.figure(figsize=(8,4))\n",
    "plt.plot(np.arange(len(sequence)), sequence, \"b-\")\n",
    "plt.plot(t[:n_steps], sequence[:n_steps], \"b-\", linewidth=3)\n",
    "plt.xlabel(\"Time\")\n",
    "plt.ylabel(\"Value\")\n",
    "plt.show()"
   ]
  },
  {
   "cell_type": "markdown",
   "metadata": {},
   "source": []
  }
 ],
 "metadata": {
  "kernelspec": {
   "display_name": "Python 3",
   "language": "python",
   "name": "python3"
  },
  "language_info": {
   "codemirror_mode": {
    "name": "ipython",
    "version": 3
   },
   "file_extension": ".py",
   "mimetype": "text/x-python",
   "name": "python",
   "nbconvert_exporter": "python",
   "pygments_lexer": "ipython3",
   "version": "3.5.1"
  }
 },
 "nbformat": 4,
 "nbformat_minor": 2
}
